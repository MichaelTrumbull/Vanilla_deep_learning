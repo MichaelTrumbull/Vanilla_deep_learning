{
 "cells": [
  {
   "cell_type": "markdown",
   "metadata": {},
   "source": [
    "# PATHS"
   ]
  },
  {
   "cell_type": "code",
   "execution_count": 1,
   "metadata": {},
   "outputs": [],
   "source": [
    "MNIST_TRAIN_PATH = \"../Documents/MNIST/mnist_train.csv\"\n",
    "MNIST_TEST_PATH = \"../Documents/MNIST/mnist_test.csv\""
   ]
  },
  {
   "cell_type": "code",
   "execution_count": 2,
   "metadata": {},
   "outputs": [],
   "source": [
    "import random\n",
    "#import numpy as np"
   ]
  },
  {
   "cell_type": "markdown",
   "metadata": {},
   "source": [
    "# Math Tools"
   ]
  },
  {
   "cell_type": "code",
   "execution_count": 3,
   "metadata": {},
   "outputs": [],
   "source": [
    "\n",
    "\n",
    "# np.random.rand()\n",
    "def rand(dim1,dim2): # offset value included?\n",
    "    # This is commented out because there is weird stuff with adding vectors in numpy so for testing it is annoying so i'm leaving it as this for now.\n",
    "    #if dim2 == 1:\n",
    "    #    list_rand_floats = [random.uniform(0,1) - 0.5 for _ in range(dim1)]\n",
    "    #    return list_rand_floats\n",
    "    list_rand_floats = [[random.uniform(0,1) - 0.5 for _ in range(dim2)] for _ in range(dim1)]\n",
    "    return list_rand_floats\n",
    "# np.maximum()\n",
    "def maximum(A,compare_val):\n",
    "    assert isinstance(compare_val, int)\n",
    "    # 1d \n",
    "    if not isinstance(A[0], list):\n",
    "        #make B the same length as A\n",
    "        B = []\n",
    "        for val in A:\n",
    "            if val > compare_val:\n",
    "                B.append(val)\n",
    "            else:\n",
    "                B.append(compare_val)\n",
    "        return B\n",
    "    if isinstance(A[0], list):\n",
    "        B = []\n",
    "        for row in A:\n",
    "            B.append(maximum(row,compare_val))\n",
    "        return B\n",
    "    return None\n",
    "\n",
    "        \n",
    "\n",
    "# .T\n",
    "def transpose(A):\n",
    "    B =[[row[i] for row in A] for i in range(len(A[0]))]\n",
    "    return B\n",
    "\n",
    "# np.exp()\n",
    "def exp(x):\n",
    "    #print('def exp (x): x = ', x)\n",
    "    if isinstance(x, int) or isinstance(x, float):\n",
    "        return 2.71828**x\n",
    "    \n",
    "    if isinstance(x,list):\n",
    "        if isinstance(x[0], list): # 2d list case\n",
    "            hold = []\n",
    "            for row in x:\n",
    "                hold.append( exp(row) )\n",
    "            return hold\n",
    "        else: # 1d list case\n",
    "            hold = []\n",
    "            #print('def exp (x): x = ', x)\n",
    "            for i in range(len(x)):\n",
    "                hold.append(2.71828**x[i])\n",
    "            return hold\n",
    "# np.zeros()\n",
    "def zeros(a,b):\n",
    "    #x = [[0]*b]*a # dont use this version in python because it uses references so changing one messes with the others\n",
    "    x = [[0 for _ in range(b)] for _ in range(a)]\n",
    "    return x\n",
    "\n",
    "# np.arange()\n",
    "def arange(n):\n",
    "    l = [val for val in range(n)]\n",
    "    return l\n",
    "        \n",
    "\n",
    "# np.sum()\n",
    "# use built in sum()\n",
    "\n",
    "# np.argmax()\n",
    "def argmax(A, axis):\n",
    "    # 1d \n",
    "    if not isinstance(A[0], list):\n",
    "        largest_val = A[0]\n",
    "        index = 0\n",
    "        for i, val in enumerate(A):\n",
    "            if val > largest_val:\n",
    "                largest_val = val\n",
    "                index = i\n",
    "        return index\n",
    "    #assume 2d list\n",
    "    hold_indexes = []\n",
    "    # 0 index means check row by row\n",
    "    if axis == 1:\n",
    "        for row in A:\n",
    "            hold_indexes.append(argmax(row,0))\n",
    "        return hold_indexes\n",
    "    if axis == 0:\n",
    "        for row in transpose(A):\n",
    "            hold_indexes.append(argmax(row,0))\n",
    "        return hold_indexes\n",
    "    return None\n",
    "\n",
    "\n",
    "# .size\n",
    "def size(A):\n",
    "    if isinstance(A[0], list):\n",
    "        n, m = shape(A)\n",
    "        return int(n * m)\n",
    "    return int(shape(A))\n",
    "\n",
    "# .max\n",
    "# use built in max()\n",
    "\n",
    "# .dot()\n",
    "def dot(A,B):\n",
    "    # if A and B are >2d matricies then do matrix multiplication\n",
    "    if isinstance(A[0], list) and isinstance(B[0], list):\n",
    "        c = [[0 for _ in range(len(B[0]))] for _ in range(len(A))]\n",
    "        #print(shape(c))\n",
    "        for i in range(len(A)):\n",
    "            for j in range(len(B[0])):\n",
    "                for k in range(len(B)):\n",
    "\n",
    "                    c[i][j] += A[i][k] * B[k][j]\n",
    "        return c\n",
    "    if not isinstance(A[0], list) and not isinstance(B[0], list):\n",
    "        res = 0\n",
    "        for i in range(len(A)):\n",
    "            res += A[i]*B[i]\n",
    "        return res\n",
    "    return 0\n",
    "\n",
    "\n",
    "# .shape\n",
    "def shape(A):\n",
    "    if not isinstance(A,list):\n",
    "        return 1\n",
    "    if isinstance(A[0], list):\n",
    "        return (len(list(A)), len(list(A)[0]))\n",
    "    if isinstance(A,list):\n",
    "        return (len(list(A)))\n",
    "    return None\n",
    "\n",
    "\n",
    "# A / 255.\n",
    "def div_element_wise(A,n):\n",
    "    B = [[x/n for x in lst] for lst in A]\n",
    "    return B\n",
    "def add_vecs_element_wise(a,b):\n",
    "    assert len(a) == len(b)\n",
    "    c = []\n",
    "    for i in range(a):\n",
    "        c.append(a[i] + b[i])\n",
    "    return c\n",
    "    \n",
    "# 2d matrix + 1d array \n",
    "def add_2dw_with_1d(A,b):\n",
    "    assert len(A) == len(b) # dims are wrong i think?\n",
    "    C = []\n",
    "    for i in range(len(b)):\n",
    "        hold_row = []\n",
    "        for val in A[i]:\n",
    "            hold_row.append(val + b[i][0]) # This [0] term is becaus I need to leave it as a 2d array for the numpy version which i'm using while testing\n",
    "        C.append(hold_row)\n",
    "    return C\n",
    "def sum(A):\n",
    "    if isinstance(A[0], list):\n",
    "        hold = 0\n",
    "        for row in A:\n",
    "            hold += sum(row)\n",
    "        return hold\n",
    "    hold = 0\n",
    "    for val in A:\n",
    "        hold += val\n",
    "    return hold\n",
    "def subtract_lists(A,B):\n",
    "    assert len(A) == len(B)\n",
    "    if isinstance(A[0], list) and isinstance(B[0], list):\n",
    "        assert len(A[0]) == len(B[0])\n",
    "        hold2d = []\n",
    "        for i in range(len(A)):\n",
    "            hold1d = []\n",
    "            for j in range(len(A[0])):\n",
    "                hold1d.append(A[i][j] - B[i][j])\n",
    "            hold2d.append(hold1d)\n",
    "        return hold2d\n",
    "    raise Exception(\"both must be 2d lists of same size\")\n",
    "def mult_element_wise(val, A):\n",
    "    assert not isinstance(val,list)\n",
    "    assert isinstance(A,list)\n",
    "    if isinstance(A[0], list): #2d list\n",
    "        hold2d = []\n",
    "        for row in A:\n",
    "            hold1d = []\n",
    "            for a in row:\n",
    "                hold1d.append(val * a)\n",
    "            hold2d.append(hold1d)\n",
    "        return hold2d\n",
    "    hold = [] # 1d matrix\n",
    "    for a in A:\n",
    "        hold.append(val*a)\n",
    "    return hold\n",
    "\n",
    "def each_element_is_greater(A, val):\n",
    "    assert isinstance(A, list)\n",
    "    assert isinstance(A[0], list)\n",
    "    hold2d = []\n",
    "    for row in A:\n",
    "        hold1d = []\n",
    "        for a in row:\n",
    "            hold1d.append(a > val)\n",
    "        hold2d.append(hold1d)\n",
    "    return hold2d\n",
    "            \n",
    "def mult_lists(A,B):\n",
    "    assert isinstance(A,list) and isinstance(B,list)\n",
    "    assert isinstance(A[0], list) and isinstance(B[0], list)\n",
    "    assert len(A) == len(B)\n",
    "    assert len(A[0]) == len(B[0])\n",
    "    hold2d = []\n",
    "    for i in range(len(A)):\n",
    "        hold1d = []\n",
    "        for j in range(len(A[0])):\n",
    "            hold1d.append( A[i][j] * B[i][j] )\n",
    "        hold2d.append(hold1d)\n",
    "    return hold2d\n",
    "\n",
    "def subtract_val_from_list(A, val):\n",
    "    if not isinstance(A[0], list):\n",
    "        hold = []\n",
    "        for a in A:\n",
    "            hold.append(a-val)\n",
    "        return hold\n",
    "    if isinstance(A[0],list):\n",
    "        hold = []\n",
    "        for row in A:\n",
    "            hold.append(subtract_val_from_list(row,val))\n",
    "        return hold\n",
    "def size(A):\n",
    "    if isinstance(A[0], list):\n",
    "        hold = 0\n",
    "        for row in A:\n",
    "            hold += len(row)\n",
    "        return hold\n",
    "    if isinstance(A,list):\n",
    "        return len(A)\n",
    "    return 0\n",
    "\n",
    "def compare_bool_lists(A , B):\n",
    "    assert not isinstance(A[0], list) # 1d\n",
    "    assert not isinstance(A[0], list) # 1d\n",
    "    hold = []\n",
    "    for a,b in zip(A,B):\n",
    "        hold.append( a == b )\n",
    "    return hold"
   ]
  },
  {
   "cell_type": "code",
   "execution_count": 4,
   "metadata": {},
   "outputs": [
    {
     "data": {
      "text/plain": [
       "6"
      ]
     },
     "execution_count": 4,
     "metadata": {},
     "output_type": "execute_result"
    }
   ],
   "source": [
    "size([1,2,3,4,5,6])"
   ]
  },
  {
   "cell_type": "code",
   "execution_count": 5,
   "metadata": {},
   "outputs": [
    {
     "data": {
      "text/plain": [
       "9"
      ]
     },
     "execution_count": 5,
     "metadata": {},
     "output_type": "execute_result"
    }
   ],
   "source": [
    "size([[1,2,3],[4,5,6],[7,8,9]])"
   ]
  },
  {
   "cell_type": "code",
   "execution_count": 6,
   "metadata": {},
   "outputs": [
    {
     "data": {
      "text/plain": [
       "[1, 1, 1]"
      ]
     },
     "execution_count": 6,
     "metadata": {},
     "output_type": "execute_result"
    }
   ],
   "source": [
    "subtract_val_from_list([2,2,2], 1)"
   ]
  },
  {
   "cell_type": "code",
   "execution_count": 7,
   "metadata": {},
   "outputs": [
    {
     "data": {
      "text/plain": [
       "[[True, True, True], [False, False, False]]"
      ]
     },
     "execution_count": 7,
     "metadata": {},
     "output_type": "execute_result"
    }
   ],
   "source": [
    "each_element_is_greater([[1,1,1],[-1,-1,-1]], 0)"
   ]
  },
  {
   "cell_type": "code",
   "execution_count": 8,
   "metadata": {},
   "outputs": [],
   "source": [
    "test = [[1,2,3],[4,5,6],[7,8,9]]\n",
    "test2 = [[3,3,3],[3,3,3],[3,3,3]]"
   ]
  },
  {
   "cell_type": "code",
   "execution_count": 9,
   "metadata": {},
   "outputs": [
    {
     "data": {
      "text/plain": [
       "[[3, 6, 9], [12, 15, 18], [21, 24, 27]]"
      ]
     },
     "execution_count": 9,
     "metadata": {},
     "output_type": "execute_result"
    }
   ],
   "source": [
    "mult_lists(test,test2)"
   ]
  },
  {
   "cell_type": "code",
   "execution_count": 10,
   "metadata": {},
   "outputs": [],
   "source": [
    "#np.array(test) * np.array(test2)"
   ]
  },
  {
   "cell_type": "code",
   "execution_count": 11,
   "metadata": {},
   "outputs": [
    {
     "data": {
      "text/plain": [
       "[[-2, -1, 0], [1, 2, 3], [4, 5, 6]]"
      ]
     },
     "execution_count": 11,
     "metadata": {},
     "output_type": "execute_result"
    }
   ],
   "source": [
    "subtract_lists(test,test2)"
   ]
  },
  {
   "cell_type": "code",
   "execution_count": 12,
   "metadata": {},
   "outputs": [],
   "source": [
    "#np.array(test) - np.array(test2)"
   ]
  },
  {
   "cell_type": "code",
   "execution_count": 13,
   "metadata": {},
   "outputs": [
    {
     "data": {
      "text/plain": [
       "45"
      ]
     },
     "execution_count": 13,
     "metadata": {},
     "output_type": "execute_result"
    }
   ],
   "source": [
    "sum(test)"
   ]
  },
  {
   "cell_type": "code",
   "execution_count": 14,
   "metadata": {},
   "outputs": [],
   "source": [
    "#np.sum(np.array(test))"
   ]
  },
  {
   "cell_type": "code",
   "execution_count": 15,
   "metadata": {},
   "outputs": [
    {
     "data": {
      "text/plain": [
       "4"
      ]
     },
     "execution_count": 15,
     "metadata": {},
     "output_type": "execute_result"
    }
   ],
   "source": [
    "argmax( [ -1,1,16,3,18,3,5,0 ] , 0)"
   ]
  },
  {
   "cell_type": "code",
   "execution_count": 16,
   "metadata": {},
   "outputs": [
    {
     "data": {
      "text/plain": [
       "[4, 0, 1, 0, 0, 0, 2, 3]"
      ]
     },
     "execution_count": 16,
     "metadata": {},
     "output_type": "execute_result"
    }
   ],
   "source": [
    "a = [[ -1,1,16,3,18,3,5,0 ],[ -1,1,20,3,18,3,5,0 ],[ -1,1,16,3,18,3,30,0 ],[ -1,1,16,3,18,3,5,100 ],[ 100,1,16,3,18,3,5,0 ]]\n",
    "argmax(a,0)"
   ]
  },
  {
   "cell_type": "code",
   "execution_count": 17,
   "metadata": {},
   "outputs": [],
   "source": [
    "#maximum(Z, 0)#"
   ]
  },
  {
   "cell_type": "code",
   "execution_count": 18,
   "metadata": {},
   "outputs": [
    {
     "name": "stdout",
     "output_type": "stream",
     "text": [
      "[[85.5, 97.5, 109.5], [154.5, 178.5, 202.5], [201.5, 235.5, 269.5]]\n"
     ]
    }
   ],
   "source": [
    "a = [[1,2,3],\n",
    "     [4,5,6],\n",
    "     [7,8,9],\n",
    "     [11,12,13]]\n",
    "\n",
    "b = [[1.5,2.5,3.5,4.5],\n",
    "     [4.5,5.5,6.5,7.5],\n",
    "     [7.5,8.5,9.5,8.5]]\n",
    "\n",
    "#print(np.dot(b,a))\n",
    "print(dot(b,a))\n",
    "\n",
    "#c = np.array([1,2,3,4,5,60])\n",
    "#print(np.dot(c,c))\n",
    "#print(dot(c,c))\n"
   ]
  },
  {
   "cell_type": "code",
   "execution_count": 19,
   "metadata": {},
   "outputs": [],
   "source": [
    "a = [[1,2,3],[1,2,3],[1,2,3]]\n",
    "b = [[1,2],[1,2]]\n",
    "#np.dot(np.array(a), np.array(b))"
   ]
  },
  {
   "cell_type": "markdown",
   "metadata": {},
   "source": [
    "# modified from tutorial"
   ]
  },
  {
   "cell_type": "code",
   "execution_count": 21,
   "metadata": {},
   "outputs": [
    {
     "name": "stdout",
     "output_type": "stream",
     "text": [
      "   label  1x1  1x2  1x3  1x4  1x5  1x6  1x7  1x8  1x9  ...  28x19  28x20  \\\n",
      "0      5    0    0    0    0    0    0    0    0    0  ...      0      0   \n",
      "1      0    0    0    0    0    0    0    0    0    0  ...      0      0   \n",
      "2      4    0    0    0    0    0    0    0    0    0  ...      0      0   \n",
      "3      1    0    0    0    0    0    0    0    0    0  ...      0      0   \n",
      "4      9    0    0    0    0    0    0    0    0    0  ...      0      0   \n",
      "\n",
      "   28x21  28x22  28x23  28x24  28x25  28x26  28x27  28x28  \n",
      "0      0      0      0      0      0      0      0      0  \n",
      "1      0      0      0      0      0      0      0      0  \n",
      "2      0      0      0      0      0      0      0      0  \n",
      "3      0      0      0      0      0      0      0      0  \n",
      "4      0      0      0      0      0      0      0      0  \n",
      "\n",
      "[5 rows x 785 columns]\n",
      "785\n",
      "5\n",
      "val:  l\n"
     ]
    }
   ],
   "source": [
    "#import numpy as np\n",
    "import pandas as pd\n",
    "from matplotlib import pyplot as plt\n",
    "\n",
    "#data = pd.read_csv('/kaggle/input/digit-recognizer/train.csv')\n",
    "data = pd.read_csv(MNIST_TRAIN_PATH)\n",
    "print(data.head())\n",
    "d = list(data)\n",
    "print(len(d))\n",
    "print(len(d[0]))\n",
    "print('val: ',d[0][0])"
   ]
  },
  {
   "cell_type": "code",
   "execution_count": 22,
   "metadata": {},
   "outputs": [],
   "source": [
    "#data = np.array(data)\n",
    "data = data.values.tolist() \n",
    "#m,n = data.shape\n",
    "m, n = shape(data) \n",
    "\n",
    "#np.random.shuffle(data) # shuffle before splitting into dev and training sets\n",
    "\n",
    "#data_dev = data[0:1000].T\n",
    "data_dev = transpose(data[0:1000]) \n",
    "Y_dev = data_dev[0]\n",
    "X_dev = data_dev[1:n]\n",
    "#X_dev / 255.\n",
    "X_dev = div_element_wise(X_dev, 255.) \n",
    "\n",
    "#data_train = data[1000:m].T\n",
    "data_train = transpose(data[1000:m]) \n",
    "Y_train = data_train[0]\n",
    "X_train = data_train[1:n]\n",
    "#X_train = X_train / 255.\n",
    "X_train = div_element_wise(X_train, 255.) \n",
    "#_,m_train = X_train.shape\n",
    "_,m_train = shape(X_train) "
   ]
  },
  {
   "cell_type": "code",
   "execution_count": 23,
   "metadata": {},
   "outputs": [],
   "source": [
    "#np.array([[1,2,3,4],[0,0,0,0],[1,1,1,1]]) + np.array([5,6,7,8])"
   ]
  },
  {
   "cell_type": "code",
   "execution_count": 24,
   "metadata": {},
   "outputs": [],
   "source": [
    "def init_params():\n",
    "    W1 = rand(10, 784) #np.random.rand(10, 784) - 0.5\n",
    "    b1 = rand(10, 1) #np.random.rand(10, 1) - 0.5\n",
    "    W2 = rand(10, 10) #np.random.rand(10, 10) - 0.5\n",
    "    b2 = rand(10, 1) #np.random.rand(10, 1) - 0.5\n",
    "    return W1, b1, W2, b2\n",
    "\n",
    "def ReLU(Z):\n",
    "    return maximum(Z, 0)#np.maximum(Z, 0)\n",
    "\n",
    "def softmax(Z):\n",
    "    A = div_element_wise(exp(Z), sum(exp(Z))) #np.exp(Z) / sum(np.exp(Z))\n",
    "    return A\n",
    "#hold_Z1 = 0\n",
    "def forward_prop(W1, b1, W2, b2, X):\n",
    "    Z1 = add_2dw_with_1d( dot(W1,X) , b1) #W1.dot(X) + b1\n",
    "    #\n",
    "    #global hold_Z1\n",
    "    #hold_Z1 = Z1\n",
    "    A1 = ReLU(Z1)\n",
    "    Z2 = add_2dw_with_1d( dot(W2,A1) , b2) #W2.dot(A1) + b2\n",
    "    A2 = softmax(Z2)\n",
    "    return Z1, A1, Z2, A2\n",
    "\n",
    "def ReLU_deriv(Z):\n",
    "    return each_element_is_greater(Z, 0) #return Z > 0\n",
    "\n",
    "def one_hot(Y):\n",
    "    one_hot_Y = zeros(size(Y), max(Y) + 1) #np.zeros((Y.size, Y.max() + 1))\n",
    "    # Note: ndarray can take array or list as input and zip them for you\n",
    "    for a,b in zip(arange(size(Y)), Y): #one_hot_Y[np.arange(size(Y)), Y] = 1 \n",
    "        one_hot_Y[a][b] = 1\n",
    "    one_hot_Y = transpose(one_hot_Y)\n",
    "    return one_hot_Y\n",
    "\n",
    "def backward_prop(Z1, A1, Z2, A2, W1, W2, X, Y):\n",
    "    one_hot_Y = one_hot(Y)\n",
    "    dZ2 = subtract_lists( A2 , one_hot_Y )\n",
    "\n",
    "    dW2 = mult_element_wise( 1 / m , dot(dZ2, transpose(A1)) ) #1 / m * dot(dZ2, transpose(A1))\n",
    "    db2 = 1 / m * sum(dZ2)\n",
    "    #print(\"shape(dot(transpose(W2), dZ2))\", shape(dot(transpose(W2), dZ2)))\n",
    "    #print(\"shape(ReLU_deriv(Z1))\",shape(ReLU_deriv(Z1)))\n",
    "    dZ1 = mult_lists( dot(transpose(W2), dZ2) , ReLU_deriv(Z1) )\n",
    "    #print(\"shape(dZ1)\", shape(dZ1))\n",
    "    #print(\"shape(transpose(X))\",shape(transpose(X)))\n",
    "    dW1 = mult_element_wise( 1 / m , dot(dZ1, transpose(X)) )   #1 / m * dot(dZ1, transpose(X))\n",
    "    db1 = 1 / m * sum(dZ1)\n",
    "    return dW1, db1, dW2, db2\n",
    "\n",
    "def update_params(W1, b1, W2, b2, dW1, db1, dW2, db2, alpha):\n",
    "    #print('update_params')\n",
    "    #print(shape(W1))\n",
    "    #print('alpha = 0.1')\n",
    "    #print(shape(dW1))\n",
    "    W1 = subtract_lists( W1 , mult_element_wise( alpha , dW1) ) #W1 - alpha * dW1\n",
    "    print(\"shape(b1)\",shape(b1))\n",
    "    b1 = subtract_val_from_list(b1, alpha * db1)  #b1 - alpha * db1    \n",
    "    W2 = subtract_lists( W2 , mult_element_wise( alpha , dW2) ) #W2 - alpha * dW2  \n",
    "    b2 = subtract_val_from_list(b2, alpha * db2 )  #b2 - alpha * db2    \n",
    "    return W1, b1, W2, b2"
   ]
  },
  {
   "cell_type": "code",
   "execution_count": 25,
   "metadata": {},
   "outputs": [],
   "source": [
    "#hold_A2 = []\n",
    "def get_predictions(A2):\n",
    "    #print('np.argmax(A2,0)', np.argmax(A2,0))\n",
    "    #print('A2',A2)\n",
    "    #global hold_A2 # dont need this anymore\n",
    "    #hold_A2 = A2 # dont need this\n",
    "    return argmax(A2, 0)\n",
    "\n",
    "def get_accuracy(predictions, Y):\n",
    "    #print(predictions, Y)\n",
    "    #print(\"shape(predictions)\",shape(predictions))\n",
    "    #print(\"shape(Y)\",shape(Y))\n",
    "    #print(\"size(Y)\",size(Y))\n",
    "    \n",
    "    return sum(compare_bool_lists(predictions , Y)) / size(Y) #sum(predictions == Y) / Y.size\n",
    "\n",
    "def gradient_descent(X, Y, alpha, iterations):\n",
    "    W1, b1, W2, b2 = init_params()\n",
    "    for i in range(iterations):\n",
    "        Z1, A1, Z2, A2 = forward_prop(W1, b1, W2, b2, X)\n",
    "        dW1, db1, dW2, db2 = backward_prop(Z1, A1, Z2, A2, W1, W2, X, Y)\n",
    "        W1, b1, W2, b2 = update_params(W1, b1, W2, b2, dW1, db1, dW2, db2, alpha)\n",
    "        if True:#i % 10 == 0:\n",
    "            print(\"Iteration: \", i)\n",
    "            predictions = get_predictions(A2)\n",
    "            print(get_accuracy(predictions, Y))\n",
    "    return W1, b1, W2, b2"
   ]
  },
  {
   "cell_type": "code",
   "execution_count": 26,
   "metadata": {},
   "outputs": [
    {
     "name": "stdout",
     "output_type": "stream",
     "text": [
      "shape(b1) (10, 1)\n",
      "Iteration:  0\n",
      "0.08776271186440678\n",
      "shape(b1) (10, 1)\n",
      "Iteration:  1\n",
      "0.09166101694915255\n",
      "shape(b1) (10, 1)\n",
      "Iteration:  2\n",
      "0.09861016949152543\n",
      "shape(b1) (10, 1)\n",
      "Iteration:  3\n",
      "0.10825423728813559\n",
      "shape(b1) (10, 1)\n",
      "Iteration:  4\n",
      "0.11672881355932203\n",
      "shape(b1) (10, 1)\n",
      "Iteration:  5\n",
      "0.12303389830508475\n",
      "shape(b1) (10, 1)\n",
      "Iteration:  6\n",
      "0.12894915254237288\n",
      "shape(b1) (10, 1)\n",
      "Iteration:  7\n",
      "0.13957627118644067\n",
      "shape(b1) (10, 1)\n",
      "Iteration:  8\n",
      "0.16601694915254236\n",
      "shape(b1) (10, 1)\n",
      "Iteration:  9\n",
      "0.16823728813559322\n"
     ]
    }
   ],
   "source": [
    "W1, b1, W2, b2 = gradient_descent(X_train, Y_train, 0.10, 10)"
   ]
  },
  {
   "cell_type": "code",
   "execution_count": null,
   "metadata": {},
   "outputs": [],
   "source": [
    "A = [1,0,0,0]\n",
    "B = [1,1,0,0]\n",
    "#np.array(A) == np.array(B)"
   ]
  },
  {
   "cell_type": "code",
   "execution_count": null,
   "metadata": {},
   "outputs": [],
   "source": [
    "compare_bool_lists(A , B)"
   ]
  },
  {
   "cell_type": "code",
   "execution_count": null,
   "metadata": {},
   "outputs": [],
   "source": [
    "#hold_Z1.shape"
   ]
  },
  {
   "cell_type": "code",
   "execution_count": null,
   "metadata": {},
   "outputs": [],
   "source": [
    "#np.maximum(hold_Z1,0).tolist() == maximum(hold_Z1.tolist(),0)"
   ]
  },
  {
   "cell_type": "code",
   "execution_count": null,
   "metadata": {},
   "outputs": [],
   "source": [
    "def make_predictions(X, W1, b1, W2, b2):\n",
    "    _, _, _, A2 = forward_prop(W1, b1, W2, b2, X)\n",
    "    predictions = get_predictions(A2)\n",
    "    return predictions\n",
    "\n",
    "def test_prediction(index, W1, b1, W2, b2):\n",
    "    current_image = X_train[:, index, None]\n",
    "    prediction = make_predictions(X_train[:, index, None], W1, b1, W2, b2)\n",
    "    label = Y_train[index]\n",
    "    print(\"Prediction: \", prediction)\n",
    "    print(\"Label: \", label)\n",
    "    \n",
    "    current_image = current_image.reshape((28, 28)) * 255\n",
    "    plt.gray()\n",
    "    plt.imshow(current_image, interpolation='nearest')\n",
    "    plt.show()"
   ]
  },
  {
   "cell_type": "code",
   "execution_count": null,
   "metadata": {},
   "outputs": [],
   "source": [
    "test_prediction(0, W1, b1, W2, b2)\n",
    "test_prediction(1, W1, b1, W2, b2)\n",
    "test_prediction(2, W1, b1, W2, b2)\n",
    "test_prediction(3, W1, b1, W2, b2)"
   ]
  },
  {
   "cell_type": "code",
   "execution_count": null,
   "metadata": {},
   "outputs": [],
   "source": [
    "dev_predictions = make_predictions(X_dev, W1, b1, W2, b2)\n",
    "get_accuracy(dev_predictions, Y_dev)"
   ]
  },
  {
   "cell_type": "code",
   "execution_count": null,
   "metadata": {},
   "outputs": [],
   "source": []
  }
 ],
 "metadata": {
  "kernelspec": {
   "display_name": "base",
   "language": "python",
   "name": "python3"
  },
  "language_info": {
   "codemirror_mode": {
    "name": "ipython",
    "version": 3
   },
   "file_extension": ".py",
   "mimetype": "text/x-python",
   "name": "python",
   "nbconvert_exporter": "python",
   "pygments_lexer": "ipython3",
   "version": "3.10.10"
  },
  "orig_nbformat": 4
 },
 "nbformat": 4,
 "nbformat_minor": 2
}
